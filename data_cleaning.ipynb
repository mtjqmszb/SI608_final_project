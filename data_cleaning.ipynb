{
 "cells": [
  {
   "cell_type": "code",
   "execution_count": null,
   "id": "f05dac52",
   "metadata": {},
   "outputs": [
    {
     "name": "stdout",
     "output_type": "stream",
     "text": [
      "Raw shapes:\n",
      "games: (50872, 13)\n",
      "recommendations: (41154794, 8)\n",
      "users: (14306064, 3)\n",
      "After subsetting:\n",
      "recommendations: (5217474, 8)\n",
      "Merged shape: (5217474, 22)\n"
     ]
    }
   ],
   "source": [
    "# DATA SUBSETTING AND MERGING\n",
    "\n",
    "import pandas as pd\n",
    "import numpy as np\n",
    "\n",
    "# --- Load raw CSVs ---\n",
    "games = pd.read_csv(\"data/games.csv\", low_memory=False)\n",
    "recs  = pd.read_csv(\"data/recommendations.csv\", low_memory=False)\n",
    "users = pd.read_csv(\"data/users.csv\", low_memory=False)\n",
    "\n",
    "print(\"Raw shapes:\")\n",
    "print(\"games:\", games.shape)\n",
    "print(\"recommendations:\", recs.shape)\n",
    "print(\"users:\", users.shape)\n",
    "\n",
    "# --- Subset users who wrote ≥20 reviews ---\n",
    "user_counts = recs['user_id'].value_counts()\n",
    "active_users = user_counts[user_counts >= 20].index\n",
    "recs = recs[recs['user_id'].isin(active_users)]\n",
    "\n",
    "# --- Subset games that received ≥1500 reviews ---\n",
    "game_counts = recs['app_id'].value_counts()\n",
    "popular_games = game_counts[game_counts >= 1500].index\n",
    "recs = recs[recs['app_id'].isin(popular_games)]\n",
    "\n",
    "print(\"After subsetting:\")\n",
    "print(\"recommendations:\", recs.shape)\n",
    "\n",
    "# --- Merge datasets ---\n",
    "merged = (\n",
    "    recs\n",
    "    .merge(games, on=\"app_id\", how=\"left\")\n",
    "    .merge(users, on=\"user_id\", how=\"left\")\n",
    ")\n",
    "\n",
    "print(\"Merged shape:\", merged.shape)"
   ]
  },
  {
   "cell_type": "code",
   "execution_count": 7,
   "id": "09caa50b",
   "metadata": {},
   "outputs": [
    {
     "name": "stdout",
     "output_type": "stream",
     "text": [
      "After cleaning: (5217467, 18)\n",
      "<class 'pandas.core.frame.DataFrame'>\n",
      "Index: 5217467 entries, 0 to 5217473\n",
      "Data columns (total 18 columns):\n",
      " #   Column          Dtype         \n",
      "---  ------          -----         \n",
      " 0   user_id         int64         \n",
      " 1   app_id          int64         \n",
      " 2   is_recommended  int64         \n",
      " 3   hours           float64       \n",
      " 4   helpful         int64         \n",
      " 5   funny           int64         \n",
      " 6   date            object        \n",
      " 7   title           object        \n",
      " 8   date_release    datetime64[ns]\n",
      " 9   rating          object        \n",
      " 10  positive_ratio  int64         \n",
      " 11  user_reviews    int64         \n",
      " 12  price_final     float64       \n",
      " 13  discount        float64       \n",
      " 14  win             bool          \n",
      " 15  mac             bool          \n",
      " 16  linux           bool          \n",
      " 17  steam_deck      bool          \n",
      "dtypes: bool(4), datetime64[ns](1), float64(3), int64(7), object(3)\n",
      "memory usage: 1.6 GB\n",
      "None\n"
     ]
    }
   ],
   "source": [
    "# DATA CLEANING\n",
    "\n",
    "# --- Remove duplicate user–game pairs ---\n",
    "merged = merged.drop_duplicates(subset=[\"user_id\", \"app_id\"])\n",
    "\n",
    "# --- Drop unnecessary columns to reduce size ---\n",
    "# keep only essential metadata for analysis\n",
    "cols_to_keep = [\n",
    "    \"user_id\", \"app_id\", \"is_recommended\", \"hours\", \"helpful\", \"funny\", \"date\",\n",
    "    \"title\", \"date_release\", \"rating\", \"positive_ratio\", \"user_reviews\",\n",
    "    \"price_final\", \"discount\", \"win\", \"mac\", \"linux\", \"steam_deck\"\n",
    "]\n",
    "merged = merged[[c for c in cols_to_keep if c in merged.columns]]\n",
    "\n",
    "# --- Convert “is_recommended” to binary ---\n",
    "merged[\"is_recommended\"] = merged[\"is_recommended\"].map({True: 1, False: 0, \"True\": 1, \"False\": 0}).fillna(0).astype(int)\n",
    "\n",
    "# --- Handle missing numeric or date values ---\n",
    "if \"price_final\" in merged.columns:\n",
    "    median_price = merged[\"price_final\"].median()\n",
    "    merged[\"price_final\"] = merged[\"price_final\"].fillna(median_price)\n",
    "\n",
    "if \"date_release\" in merged.columns:\n",
    "    merged[\"date_release\"] = pd.to_datetime(merged[\"date_release\"], errors=\"coerce\")\n",
    "    merged[\"date_release\"] = merged[\"date_release\"].fillna(pd.Timestamp(\"2000-01-01\"))\n",
    "\n",
    "# --- Optional: fill missing text fields ---\n",
    "merged[\"title\"] = merged[\"title\"].fillna(\"Unknown Title\")\n",
    "\n",
    "print(\"After cleaning:\", merged.shape)\n",
    "print(merged.info(memory_usage='deep'))"
   ]
  },
  {
   "cell_type": "code",
   "execution_count": 8,
   "id": "b01230e8",
   "metadata": {},
   "outputs": [
    {
     "name": "stdout",
     "output_type": "stream",
     "text": [
      "Cleaned subset saved successfully!\n"
     ]
    }
   ],
   "source": [
    "# Save smaller cleaned dataset\n",
    "\n",
    "merged.to_csv(\"subset_cleaned.csv\", index=False)\n",
    "\n",
    "print(\"Cleaned subset saved successfully!\")"
   ]
  },
  {
   "cell_type": "code",
   "execution_count": 9,
   "id": "78902402",
   "metadata": {},
   "outputs": [
    {
     "name": "stdout",
     "output_type": "stream",
     "text": [
      "Number of unique users: 213157\n",
      "Number of unique games: 1149\n",
      "Number of user–game pairs (edges): 5217467\n",
      "Average reviews per user: 24.48\n",
      "Average reviews per game: 4540.88\n"
     ]
    }
   ],
   "source": [
    "# Number of unique users\n",
    "n_users = merged[\"user_id\"].nunique()\n",
    "\n",
    "# Number of unique games\n",
    "n_games = merged[\"app_id\"].nunique()\n",
    "\n",
    "# Number of total reviews (edges in the bipartite graph)\n",
    "n_edges = len(merged)\n",
    "\n",
    "print(f\"Number of unique users: {n_users}\")\n",
    "print(f\"Number of unique games: {n_games}\")\n",
    "print(f\"Number of user–game pairs (edges): {n_edges}\")\n",
    "print(f\"Average reviews per user: {n_edges / n_users:.2f}\")\n",
    "print(f\"Average reviews per game: {n_edges / n_games:.2f}\")\n"
   ]
  }
 ],
 "metadata": {
  "kernelspec": {
   "display_name": "jupyterlab-debugger",
   "language": "python",
   "name": "python3"
  },
  "language_info": {
   "codemirror_mode": {
    "name": "ipython",
    "version": 3
   },
   "file_extension": ".py",
   "mimetype": "text/x-python",
   "name": "python",
   "nbconvert_exporter": "python",
   "pygments_lexer": "ipython3",
   "version": "3.11.8"
  }
 },
 "nbformat": 4,
 "nbformat_minor": 5
}
